{
 "cells": [
  {
   "cell_type": "code",
   "execution_count": 27,
   "metadata": {},
   "outputs": [
    {
     "name": "stdout",
     "output_type": "stream",
     "text": [
      "f_name = Abdul\n",
      "l_name = Haseeb\n",
      "age = 21\n",
      "city = karachi\n",
      "{'f_name': 'Abdul', 'l_name': 'Haseeb', 'age': 21, 'city': 'karachi', 'qualification': 'Inter'}\n",
      "update  {'f_name': 'Abdul', 'l_name': 'Haseeb', 'age': 21, 'city': 'karachi', 'qualification': 'high academic'}\n",
      "  {'f_name': 'Abdul', 'l_name': 'Haseeb', 'age': 21, 'city': 'karachi'}\n"
     ]
    }
   ],
   "source": [
    "a = {\n",
    "  \"f_name\" :\"Abdul\",\n",
    "  \"l_name\" :\"Haseeb\",\n",
    "   \"age\" : 21,\n",
    "    \"city\":\"karachi\",\n",
    "    }\n",
    "for b , i in  a.items():\n",
    "    print(b+\" = \"+str(i))\n",
    "a[\"qualification\"]=\"Inter\"\n",
    "print(a)\n",
    "#updating\n",
    "a[\"qualification\"]=\"high academic\"\n",
    "print(\"update \",a)\n",
    "#deletimg\n",
    "del a[\"qualification\"]\n",
    "print(\" \",a)"
   ]
  },
  {
   "cell_type": "code",
   "execution_count": 6,
   "metadata": {
    "scrolled": true
   },
   "outputs": [
    {
     "name": "stdout",
     "output_type": "stream",
     "text": [
      "khi   {'country': 'Pakistan', 'population': 15741000, 'fact': 'the city of lights'}\n",
      "lah   {'country': 'Pakistan', 'population': 12188000, 'fact': 'It is the second largest and most populous city in Pakistan'}\n",
      "Isl   {'country': 'Pakistan', ' population': 1095064, 'fact': 'Capital city'}\n"
     ]
    }
   ],
   "source": [
    "cities ={\n",
    "    \"khi\":{\n",
    "        \"country\"   :\"Pakistan\",\n",
    "        \"population\": 15741000,\n",
    "        \"fact\":\"the city of lights\"\n",
    "    },\n",
    "    \"lah\":{\n",
    "        \"country\"   : \"Pakistan\", \n",
    "        \"population\" : 12188000,\n",
    "        \"fact\":\"It is the second largest and most populous city in Pakistan\"\n",
    "        \n",
    "    },\n",
    "    \"Isl\":\n",
    "    {\n",
    "        \"country\":\"Pakistan\",\n",
    "       \" population\":1095064 , \n",
    "        \"fact\":\"Capital city\"\n",
    "    }}\n",
    "for c_k,c_v in cities.items():\n",
    "    \n",
    "        print(c_k,\" \",c_v )"
   ]
  },
  {
   "cell_type": "code",
   "execution_count": null,
   "metadata": {},
   "outputs": [
    {
     "name": "stdout",
     "output_type": "stream",
     "text": [
      "Enter your age : 12\n",
      " ticket is 10$\n"
     ]
    }
   ],
   "source": [
    "\n",
    "for i in range(10):\n",
    "    age = int(input(\"Enter your age : \"))\n",
    "    if age<=3:\n",
    "        print(\"ticket is free\")\n",
    "    elif age>3 and age <= 12:\n",
    "        ticket = 10\n",
    "        print(\" ticket is \"+str(ticket)+ \"$\")\n",
    "    elif age>12:\n",
    "        ticket = 15\n",
    "        print(\" ticket is \"+str(ticket)+ \"$\")"
   ]
  },
  {
   "cell_type": "code",
   "execution_count": 7,
   "metadata": {},
   "outputs": [
    {
     "name": "stdout",
     "output_type": "stream",
     "text": [
      "such as One of my favourite book is Alice in Wonderland\n"
     ]
    }
   ],
   "source": [
    "def favourite_book(title):\n",
    "    print(\"such as One of my favourite book is \"+title)\n",
    "title=\"Alice in Wonderland\"\n",
    "favourite_book(title)"
   ]
  },
  {
   "cell_type": "code",
   "execution_count": 2,
   "metadata": {},
   "outputs": [
    {
     "name": "stdout",
     "output_type": "stream",
     "text": [
      " lets play ! number guesssing game\n",
      "enter a num between 1-30 to check your guess : \n",
      " 3\n",
      "less than hidden number \n",
      "enter a num between 1-30 to check your guess : \n",
      " 15\n",
      "less than hidden number \n",
      "enter a num between 1-30 to check your guess : \n",
      " 18\n",
      "less than hidden number \n",
      "game over\n"
     ]
    }
   ],
   "source": [
    "import random\n",
    "r_num=random.randint(1,30)\n",
    "print(\" lets play ! number guesssing game\")\n",
    "for i in range (3):\n",
    "    print(\"enter a num between 1-30 to check your guess : \")\n",
    "    g_num=int(input(\" \"))\n",
    "    if g_num==r_num:\n",
    "        print(\"perfect guess\")\n",
    "    elif g_num>=r_num:\n",
    "        print(\"greater than hidden number \")\n",
    "    elif g_num<=r_num:\n",
    "        print(\"less than hidden number \")\n",
    "    else:\n",
    "        print(\"try again\")\n",
    "print(\"game over\")"
   ]
  },
  {
   "cell_type": "code",
   "execution_count": null,
   "metadata": {
    "collapsed": true
   },
   "outputs": [],
   "source": []
  }
 ],
 "metadata": {
  "kernelspec": {
   "display_name": "Python 3",
   "language": "python",
   "name": "python3"
  },
  "language_info": {
   "codemirror_mode": {
    "name": "ipython",
    "version": 3
   },
   "file_extension": ".py",
   "mimetype": "text/x-python",
   "name": "python",
   "nbconvert_exporter": "python",
   "pygments_lexer": "ipython3",
   "version": "3.6.3"
  }
 },
 "nbformat": 4,
 "nbformat_minor": 2
}
